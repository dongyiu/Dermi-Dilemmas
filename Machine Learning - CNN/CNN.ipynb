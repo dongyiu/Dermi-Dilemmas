{
 "cells": [
  {
   "cell_type": "code",
   "execution_count": null,
   "id": "d0dd36f6-1c2a-4692-b0da-8b8a17ab8fa4",
   "metadata": {},
   "outputs": [],
   "source": [
    "import tensorflow as tf\n",
    "from keras.preprocessing.image import ImageDataGenerator\n",
    "from keras.preprocessing.image import load_img, img_to_array\n",
    "from keras.applications.vgg16 import VGG16\n",
    "from keras.models import Model\n",
    "from keras.layers import Dense, Flatten, Dropout\n",
    "import matplotlib.pyplot as plt\n",
    "import numpy as np\n",
    "from keras.models import load_model\n",
    "import seaborn as sns\n"
   ]
  },
  {
   "cell_type": "code",
   "execution_count": null,
   "id": "b1ac9ceb",
   "metadata": {},
   "outputs": [],
   "source": [
    "# Enhanced Data Augmentation\n",
    "train_datagen = ImageDataGenerator(rescale=1./255,\n",
    "                                   rotation_range=30,\n",
    "                                   width_shift_range=0.2,\n",
    "                                   height_shift_range=0.2,\n",
    "                                   shear_range=0.2,\n",
    "                                   zoom_range=0.2,\n",
    "                                   horizontal_flip=True,\n",
    "                                   fill_mode='nearest')\n",
    "\n",
    "training_set = train_datagen.flow_from_directory('SkinDiseaseDataset/train',\n",
    "                                                 target_size=(128, 128),\n",
    "                                                 batch_size=32,  # Adjusted batch size\n",
    "                                                 class_mode='categorical')"
   ]
  },
  {
   "cell_type": "code",
   "execution_count": null,
   "id": "b5701b22",
   "metadata": {},
   "outputs": [],
   "source": [
    "test_datagen = ImageDataGenerator(rescale=1./255)\n",
    "test_set = test_datagen.flow_from_directory('SkinDiseaseDataset/val',\n",
    "                                            target_size=(128, 128),\n",
    "                                            batch_size=32,  # Adjusted batch size\n",
    "                                            class_mode='categorical')"
   ]
  },
  {
   "cell_type": "code",
   "execution_count": null,
   "id": "85c0e1cf",
   "metadata": {},
   "outputs": [],
   "source": [
    "# Load VGG16 model, pre-trained on ImageNet data\n",
    "base_model = VGG16(weights='imagenet', include_top=False, input_shape=(128, 128, 3))"
   ]
  },
  {
   "cell_type": "code",
   "execution_count": null,
   "id": "cb75f259",
   "metadata": {},
   "outputs": [],
   "source": [
    "# New model on top of VGG16\n",
    "x = Flatten()(base_model.output)\n",
    "x = Dense(1024, activation='relu')(x)\n",
    "x = Dropout(0.5)(x)\n",
    "x = Dense(9, activation='softmax')(x) "
   ]
  },
  {
   "cell_type": "code",
   "execution_count": null,
   "id": "0e31b86a",
   "metadata": {},
   "outputs": [],
   "source": [
    "model = Model(inputs=base_model.input, outputs=x)"
   ]
  },
  {
   "cell_type": "code",
   "execution_count": null,
   "id": "5fc20650",
   "metadata": {},
   "outputs": [],
   "source": [
    "# Compile the Model\n",
    "model.compile(optimizer=tf.keras.optimizers.Adam(learning_rate=0.0001), \n",
    "              loss='categorical_crossentropy', \n",
    "              metrics=['accuracy'])"
   ]
  },
  {
   "cell_type": "code",
   "execution_count": null,
   "id": "94036384",
   "metadata": {},
   "outputs": [],
   "source": [
    "# Training the Model\n",
    "early_stopping = tf.keras.callbacks.EarlyStopping(monitor='val_accuracy', patience=5, verbose=1)\n",
    "model_checkpoint = tf.keras.callbacks.ModelCheckpoint('best_model.keras', monitor='val_accuracy', save_best_only=True, verbose=1)\n",
    "history = model.fit(x=training_set, \n",
    "          validation_data=test_set, \n",
    "          epochs=20, \n",
    "          callbacks=[early_stopping, model_checkpoint])"
   ]
  },
  {
   "cell_type": "code",
   "execution_count": null,
   "id": "6980f5fb",
   "metadata": {},
   "outputs": [],
   "source": [
    "# Set the Seaborn style\n",
    "sns.set(style='darkgrid', palette='deep', font_scale=1.2)\n",
    "\n",
    "# Create a dark background\n",
    "plt.style.use('dark_background')\n",
    "\n",
    "# Plotting the Training History\n",
    "plt.figure(figsize=(14, 10))\n",
    "\n",
    "# Plot Training Loss with Validation Loss\n",
    "plt.subplot(2, 2, 3)\n",
    "sns.lineplot(x=range(1, len(history.history['loss']) + 1), y=history.history['loss'], label='Training Loss', linewidth=2, marker='o', markersize=8, color='cyan')\n",
    "sns.lineplot(x=range(1, len(history.history['val_loss']) + 1), y=history.history['val_loss'], label='Validation Loss', linewidth=2, marker='o', markersize=8, color='magenta')\n",
    "plt.title('Training and Validation Loss')\n",
    "plt.xlabel('Epoch')\n",
    "plt.ylabel('Loss')\n",
    "plt.legend()\n",
    "plt.grid(True, linestyle='--', alpha=0.7)\n",
    "\n",
    "# Plot Training Accuracy with Validation Accuracy\n",
    "plt.subplot(2, 2, 4)\n",
    "sns.lineplot(x=range(1, len(history.history['accuracy']) + 1), y=history.history['accuracy'], label='Training Accuracy', linewidth=2, marker='s', markersize=8, color='lime')\n",
    "sns.lineplot(x=range(1, len(history.history['val_accuracy']) + 1), y=history.history['val_accuracy'], label='Validation Accuracy', linewidth=2, marker='s', markersize=8, color='yellow')\n",
    "plt.title('Training and Validation Accuracy')\n",
    "plt.xlabel('Epoch')\n",
    "plt.ylabel('Accuracy')\n",
    "plt.legend()\n",
    "plt.grid(True, linestyle='--', alpha=0.7)\n",
    "\n",
    "# Adjust layout\n",
    "plt.tight_layout()\n",
    "\n",
    "# Show the plot\n",
    "plt.show()\n",
    "\n"
   ]
  },
  {
   "cell_type": "code",
   "execution_count": null,
   "id": "9485f363",
   "metadata": {},
   "outputs": [],
   "source": [
    "\n",
    "# Confidence Level\n",
    "\n",
    "# Load the trained model\n",
    "cnn = load_model(\"best_model.keras\")\n",
    "\n",
    "# Image path\n",
    "# image_path = 'SkinDiseaseDataset/.jpg'\n",
    "image_path='gettyimages.jpg'\n",
    "\n",
    "# Load the image with the target size\n",
    "img = load_img(image_path, target_size=(128, 128))\n",
    "\n",
    "# Convert the image to an array\n",
    "img_array = img_to_array(img)\n",
    "\n",
    "# Scale the image\n",
    "img_array = img_array / 255.0\n",
    "\n",
    "# Expand dimensions to match the model's input format\n",
    "img_array = np.expand_dims(img_array, axis=0)\n",
    "\n",
    "# Make a prediction\n",
    "prediction = cnn.predict(img_array)\n",
    "\n",
    "# Set a confidence threshold\n",
    "confidence_threshold = 0.5\n",
    "\n",
    "# Get the maximum confidence score\n",
    "max_confidence = np.max(prediction)\n",
    "\n",
    "# Output the predicted class if the confidence is above the threshold\n",
    "if max_confidence >= confidence_threshold:\n",
    "    predicted_class = np.argmax(prediction, axis=1)\n",
    "    print(f\"Predicted class: {predicted_class} with confidence: {max_confidence:.2f}\")\n",
    "else:\n",
    "    print(f\"No skin disease detected. with confidence: {max_confidence:.2f}\")\n",
    "\n",
    "if max_confidence >= confidence_threshold:\n",
    "    predicted_class = np.argmax(prediction, axis=1)\n",
    "    predicted_class_name = list(training_set.class_indices.keys())[predicted_class[0]]\n",
    "    print(f\"Predicted class: {predicted_class_name} with confidence: {max_confidence:.2f}\")\n",
    "else:\n",
    "    print(f\"No skin disease detected. with confidence: {max_confidence:.2f}\")\n"
   ]
  },
  {
   "cell_type": "code",
   "execution_count": null,
   "id": "ef3749af",
   "metadata": {},
   "outputs": [],
   "source": [
    "from sklearn.metrics import confusion_matrix, classification_report\n",
    "import seaborn as sns\n",
    "\n",
    "# Generate predictions on the test set\n",
    "predictions = model.predict(test_set)\n",
    "\n",
    "# Convert predictions to class labels\n",
    "predicted_labels = np.argmax(predictions, axis=1)\n",
    "\n",
    "# Get true labels\n",
    "true_labels = test_set.classes\n",
    "\n",
    "# Create confusion matrix\n",
    "conf_mat = confusion_matrix(true_labels, predicted_labels)\n",
    "\n",
    "# Plot confusion matrix\n",
    "plt.figure(figsize=(8, 8))\n",
    "sns.heatmap(conf_mat, annot=True, fmt='d', cmap='Blues', xticklabels=training_set.class_indices.keys(), yticklabels=training_set.class_indices.keys())\n",
    "plt.title('Confusion Matrix')\n",
    "plt.xlabel('Predicted')\n",
    "plt.ylabel('True')\n",
    "plt.show()\n",
    "\n",
    "# Display classification report\n",
    "print(classification_report(true_labels, predicted_labels, target_names=training_set.class_indices.keys()))\n"
   ]
  },
  {
   "cell_type": "code",
   "execution_count": null,
   "id": "dd8e87e2",
   "metadata": {},
   "outputs": [],
   "source": []
  }
 ],
 "metadata": {
  "kernelspec": {
   "display_name": "Python 3 (ipykernel)",
   "language": "python",
   "name": "python3"
  },
  "language_info": {
   "codemirror_mode": {
    "name": "ipython",
    "version": 3
   },
   "file_extension": ".py",
   "mimetype": "text/x-python",
   "name": "python",
   "nbconvert_exporter": "python",
   "pygments_lexer": "ipython3",
   "version": "3.11.7"
  }
 },
 "nbformat": 4,
 "nbformat_minor": 5
}
